{
  "nbformat": 4,
  "nbformat_minor": 0,
  "metadata": {
    "colab": {
      "name": "05. 파이썬 - 마무리.ipynb",
      "provenance": []
    },
    "kernelspec": {
      "name": "python3",
      "display_name": "Python 3"
    },
    "language_info": {
      "name": "python"
    }
  },
  "cells": [
    {
      "cell_type": "markdown",
      "source": [
        "#소개\n",
        "\n",
        "파이썬 - 보아구렁이\n",
        "\n",
        "많은 모듈을 포함하여 사용할 수 있는 인터페이스 언어"
      ],
      "metadata": {
        "id": "P3Q1xjLMvxbc"
      }
    },
    {
      "cell_type": "markdown",
      "source": [
        "## 자료형\n",
        "\n",
        "숫자\n",
        "\n",
        "    정수 : int\n",
        "    실수 : float\n",
        "    복소수 : complex\n",
        "\n",
        "문자열\n",
        "\n",
        "    str\n",
        "\n",
        "변수\n",
        "\n",
        "    자료를 사용하기 위해 변수에 값을 기억시키고 필요할 때 사용한다.\n",
        "\n",
        "기본 출력, 기본 입력\n",
        "\n",
        "    print(값 or 변수)\n",
        "    print(1)\n",
        "    print(a)\n",
        "    print(1, 2, 'a')\n",
        "    print(\"{0} + {1} = {1} + {0} = {2}\".format(a, b, a+b))\n",
        "    print(\"{0:02d}\".format(a))\n",
        "    print(\"{0:.3f}\".format(b))\n",
        "    print(f\"학생 수 : {a:02d}\")\n",
        "\n",
        "\n",
        "기본 입력\n",
        "\n",
        "    입력한 내용을 문자열로 반환한다\n",
        "    만약 정수를 입력받기를 원하면 입력받은 문자열을 정수로 형변환한다.\n",
        "\n",
        "    num = int(input(\"번호 : \"))\n"
      ],
      "metadata": {
        "id": "bT5FZRcCv5d0"
      }
    },
    {
      "cell_type": "markdown",
      "source": [
        "##조건문\n",
        "\n",
        "논리 연산자\n",
        "\n",
        "    and , or , not\n",
        "  \n",
        "비교 연산자\n",
        "\n",
        "    < , > , <= , >= , != , ==\n",
        "\n",
        "if 조건식\n",
        "\n",
        "    if 조건식1 :\n",
        "      (조건식1) 참일 때 수행할 구문\n",
        "    elif 조건식2 :\n",
        "      (조건식2) 참일 때 수행할 구문\n",
        "    else:\n",
        "      모두 거짓일 때 수행할 구문"
      ],
      "metadata": {
        "id": "b9orNAcJv5XS"
      }
    },
    {
      "cell_type": "markdown",
      "source": [
        "##반복문과 컬렉션\n",
        "\n",
        "튜플\n",
        "\n",
        "    요소로 구성하는 자료구조(컬렉션)\n",
        "    요소 값을 변경할 수 없다\n",
        "\n",
        "    tuple\n",
        "    ( 값, 값, 값, ... )\n",
        "\n",
        "리스트\n",
        "\n",
        "    요소로 구성하는 자료구조(컬렉션)\n",
        "\n",
        "    list\n",
        "    [ 값, 값, 값, ... ]\n",
        "\n",
        "딕셔너리\n",
        "\n",
        "    (키):(값) 쌍으로 되어있는 데이터를 요소로 구성하는 자료구조(컬렉션)\n",
        "    \n",
        "    dict\n",
        "    { 키:값, 키:값, ... }\n",
        "\n",
        "for문\n",
        "\n",
        "    for 변수 in 컬렉션:\n",
        "      ... 변수에 대한 작업 ...\n",
        "\n",
        "while문\n",
        "\n",
        "    전통적인 반복문\n",
        "    반복문 중간에 탈출 구문 break\n",
        "    반복문 중간에 아래 생략하고 조건 비교로 올라가는 continue\n",
        "\n",
        "    while 조건문:\n",
        "      수행문"
      ],
      "metadata": {
        "id": "dptOS1mbv5Qg"
      }
    },
    {
      "cell_type": "markdown",
      "source": [
        "##함수\n",
        "\n",
        "자주 사용하는 알고리즘을 블럭화하고 블럭에 이름을 부여\n",
        "\n",
        "필요할 때 부여한 이름을 호출하여 사용\n",
        "\n",
        "    def 함수명(입력 매개변수 목록):\n",
        "      해야할 일\n",
        "      return 반환값\n",
        "\n",
        "    # 함수 중간에 결과를 반환할 때 return문 사용\n",
        "    \n",
        "호출할 때는 함수명(입력인자)\n",
        "\n",
        "    변수 = 함수명(입력인자)\n",
        "\n",
        "    # 반환 값을 받아서 사용하는 것은 선택 사항\n",
        "\n",
        "인자 종류 - 일반 매개변수, 디폴트 매개변수, 가변인자 매개변수\n",
        "\n",
        "    def 함수명(변수=default값, *가변인자):\n",
        "      해야 할 일"
      ],
      "metadata": {
        "id": "fyB15T1Lv5GQ"
      }
    },
    {
      "cell_type": "markdown",
      "source": [
        "##예외처리\n",
        "\n",
        "프로세스가 더 이상 동작하지 못하는 상황일 때 예외가 발생한다\n",
        "\n",
        "(내부적으로 raise 구문으로 예외 발생시킨 것)\n",
        "\n",
        "    try:\n",
        "      예외가 발생할 수 있는 코드 블럭\n",
        "    except 예외1:\n",
        "      예외1 처리\n",
        "    except 예외2:\n",
        "      예외2 처리\n",
        "    else:\n",
        "      예외 발생하지 않았을 때 처리\n",
        "    finally:\n",
        "      예외가 발생하든 하지 않든 반드시 해야하는 처리"
      ],
      "metadata": {
        "id": "X97uqrUN0Lhe"
      }
    },
    {
      "cell_type": "markdown",
      "source": [
        "##모듈\n",
        "\n",
        "특정 목적을 위한 코드를 하나의 소스 파일에 정의한 것\n",
        "\n",
        "    파일명 : 모듈명\n",
        "\n",
        "Abcd.py 파일이 있을 때, 모듈 이름은 Abcd\n",
        "    \n",
        "    import Abcd\n",
        "\n",
        "Abcd 모듈에 foo 함수가 있을 때\n",
        "\n",
        "    Abcd.foo()\n",
        "\n",
        "축약해서 사용할 때\n",
        "\n",
        "    from Abcd import foo\n",
        "\n",
        "    foo()\n",
        "\n",
        "모듈 이름을 축약(별칭)\n",
        "\n",
        "    import Abcd as A\n",
        "\n",
        "    A.foo()"
      ],
      "metadata": {
        "id": "B7d6_Q8r0MHf"
      }
    },
    {
      "cell_type": "markdown",
      "source": [
        "#클래스\n",
        "\n",
        "프로그램에서 관리할 데이터 등을 개발자가 형식으로 정의하여 사용할 수 있다\n",
        "\n",
        "클래스를 이용하면 멤버 필드와 멤버 메서드를 캡슐화할 수 있다\n",
        "\n",
        "클래스의 파생 문법을 이용하면 기반 형식의 멤버를 상속받을 수 있다\n",
        "\n",
        "기반 형식에 정의한 메서드를 파생 형식에서 다시 정의하면 재정의로 취급한다\n",
        "\n",
        "멤버 이름이 __로 시작하면 가시성 차단(private)"
      ],
      "metadata": {
        "id": "TM1bo2WT0L2Y"
      }
    }
  ]
}